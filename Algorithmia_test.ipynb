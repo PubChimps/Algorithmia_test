{
  "nbformat": 4,
  "nbformat_minor": 0,
  "metadata": {
    "colab": {
      "name": "Algorithmia test.ipynb",
      "provenance": []
    },
    "kernelspec": {
      "name": "python3",
      "display_name": "Python 3"
    }
  },
  "cells": [
    {
      "cell_type": "code",
      "metadata": {
        "id": "ni6ohEux1P6Y",
        "colab_type": "code",
        "colab": {}
      },
      "source": [
        "!pip install Algorithmia"
      ],
      "execution_count": null,
      "outputs": []
    },
    {
      "cell_type": "code",
      "metadata": {
        "id": "FDdh3jXi2wD_",
        "colab_type": "code",
        "colab": {}
      },
      "source": [
        "import Algorithmia"
      ],
      "execution_count": 2,
      "outputs": []
    },
    {
      "cell_type": "code",
      "metadata": {
        "id": "CZnQ4-qW1aV3",
        "colab_type": "code",
        "colab": {}
      },
      "source": [
        "input = \"http://algo.work/interview/\"\n",
        "client = Algorithmia.client('xxxxxxxx')\n",
        "algo = client.algo('NickAcosta/algo/1.1.3')\n",
        "async_algo = client.algo('NickAcosta/async_algo/0.1.0')\n",
        "\n",
        "results = []\n",
        "async_results = []\n",
        "\n",
        "for i in list('abcdeghijk'):\n",
        "  results.append(algo.pipe(input + i).result)\n",
        "  async_results.append(async_algo.pipe(input + i).result)"
      ],
      "execution_count": null,
      "outputs": []
    },
    {
      "cell_type": "code",
      "metadata": {
        "id": "C13ScrqE2Djy",
        "colab_type": "code",
        "colab": {}
      },
      "source": [
        "assert(results == async_results)"
      ],
      "execution_count": null,
      "outputs": []
    },
    {
      "cell_type": "code",
      "metadata": {
        "id": "lWGbjiJT2s2K",
        "colab_type": "code",
        "colab": {}
      },
      "source": [
        "input = \"http://algo.work/interview/a\"\n",
        "\n",
        "t = []\n",
        "async_t = []\n",
        "\n",
        "for i in range(10):\n",
        "  t.append(algo.pipe(input).metadata.duration)\n",
        "  async_t.append(async_algo.pipe(input).metadata.duration)\n",
        "print(sum(t)/10, sum(async_t)/10)"
      ],
      "execution_count": null,
      "outputs": []
    }
  ]
}
