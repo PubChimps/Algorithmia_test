{
  "nbformat": 4,
  "nbformat_minor": 0,
  "metadata": {
    "colab": {
      "name": "Algorithmia test.ipynb",
      "provenance": []
    },
    "kernelspec": {
      "name": "python3",
      "display_name": "Python 3"
    }
  },
  "cells": [
    {
      "cell_type": "code",
      "metadata": {
        "id": "ni6ohEux1P6Y",
        "colab_type": "code",
        "colab": {
          "base_uri": "https://localhost:8080/",
          "height": 449
        },
        "outputId": "13672dbf-74aa-4ddf-f8b9-0abb0fcef8aa"
      },
      "source": [
        "!pip install Algorithmia"
      ],
      "execution_count": 1,
      "outputs": [
        {
          "output_type": "stream",
          "text": [
            "Collecting Algorithmia\n",
            "  Downloading https://files.pythonhosted.org/packages/44/36/7f5a49d34a23da1a6649b862e7386a4e24f0acc4d0da7afff013ed2193d2/algorithmia-1.4.0-py2.py3-none-any.whl\n",
            "Collecting enum34\n",
            "  Downloading https://files.pythonhosted.org/packages/63/f6/ccb1c83687756aeabbf3ca0f213508fcfb03883ff200d201b3a4c60cedcc/enum34-1.1.10-py3-none-any.whl\n",
            "Requirement already satisfied: six in /usr/local/lib/python3.6/dist-packages (from Algorithmia) (1.15.0)\n",
            "Collecting algorithmia-api-client==1.1.0\n",
            "\u001b[?25l  Downloading https://files.pythonhosted.org/packages/4f/11/238485cd3722bf28451549cf5bde8f4e47825c56d1a4d09439a75354269d/algorithmia_api_client-1.1.0-py2.py3-none-any.whl (122kB)\n",
            "\u001b[K     |████████████████████████████████| 122kB 4.0MB/s \n",
            "\u001b[?25hRequirement already satisfied: toml in /usr/local/lib/python3.6/dist-packages (from Algorithmia) (0.10.1)\n",
            "Requirement already satisfied: requests in /usr/local/lib/python3.6/dist-packages (from Algorithmia) (2.23.0)\n",
            "Collecting argparse\n",
            "  Downloading https://files.pythonhosted.org/packages/f2/94/3af39d34be01a24a6e65433d19e107099374224905f1e0cc6bbe1fd22a2f/argparse-1.4.0-py2.py3-none-any.whl\n",
            "Requirement already satisfied: python-dateutil in /usr/local/lib/python3.6/dist-packages (from algorithmia-api-client==1.1.0->Algorithmia) (2.8.1)\n",
            "Requirement already satisfied: certifi in /usr/local/lib/python3.6/dist-packages (from algorithmia-api-client==1.1.0->Algorithmia) (2020.6.20)\n",
            "Requirement already satisfied: urllib3>=1.15 in /usr/local/lib/python3.6/dist-packages (from algorithmia-api-client==1.1.0->Algorithmia) (1.24.3)\n",
            "Requirement already satisfied: idna<3,>=2.5 in /usr/local/lib/python3.6/dist-packages (from requests->Algorithmia) (2.10)\n",
            "Requirement already satisfied: chardet<4,>=3.0.2 in /usr/local/lib/python3.6/dist-packages (from requests->Algorithmia) (3.0.4)\n",
            "Installing collected packages: enum34, algorithmia-api-client, argparse, Algorithmia\n",
            "Successfully installed Algorithmia-1.4.0 algorithmia-api-client-1.1.0 argparse-1.4.0 enum34-1.1.10\n"
          ],
          "name": "stdout"
        },
        {
          "output_type": "display_data",
          "data": {
            "application/vnd.colab-display-data+json": {
              "pip_warning": {
                "packages": [
                  "argparse",
                  "enum"
                ]
              }
            }
          },
          "metadata": {
            "tags": []
          }
        }
      ]
    },
    {
      "cell_type": "code",
      "metadata": {
        "id": "FDdh3jXi2wD_",
        "colab_type": "code",
        "colab": {}
      },
      "source": [
        "import Algorithmia\n",
        "import timeit"
      ],
      "execution_count": 14,
      "outputs": []
    },
    {
      "cell_type": "code",
      "metadata": {
        "id": "CZnQ4-qW1aV3",
        "colab_type": "code",
        "colab": {}
      },
      "source": [
        "input = \"http://algo.work/interview/\"\n",
        "client = Algorithmia.client('sim6/X5G1VCFexYRj2WFz+tU3221')\n",
        "algo = client.algo('NickAcosta/algo/1.1.3')\n",
        "async_algo = client.algo('NickAcosta/async_algo/0.1.0')\n",
        "\n",
        "results = []\n",
        "async_results = []\n",
        "\n",
        "for i in list('abcdeghijk'):\n",
        "  results.append(algo.pipe(input + i).result)\n",
        "  async_results.append(async_algo.pipe(input + i).result)"
      ],
      "execution_count": 10,
      "outputs": []
    },
    {
      "cell_type": "code",
      "metadata": {
        "id": "C13ScrqE2Djy",
        "colab_type": "code",
        "colab": {}
      },
      "source": [
        "assert(results == async_results)"
      ],
      "execution_count": 12,
      "outputs": []
    },
    {
      "cell_type": "code",
      "metadata": {
        "id": "lWGbjiJT2s2K",
        "colab_type": "code",
        "colab": {
          "base_uri": "https://localhost:8080/",
          "height": 34
        },
        "outputId": "50fd599b-b073-4e23-e45a-c506e236f1ad"
      },
      "source": [
        "input = \"http://algo.work/interview/a\"\n",
        "\n",
        "t = timeit.timeit(f'{algo.pipe(input).result}', number=10)\n",
        "async_t = timeit.timeit(f'{async_algo.pipe(input).result}', number=10)\n",
        "\n",
        "print(t, async_t)"
      ],
      "execution_count": 15,
      "outputs": [
        {
          "output_type": "stream",
          "text": [
            "7.859999868742307e-07 5.860000555912848e-07\n"
          ],
          "name": "stdout"
        }
      ]
    }
  ]
}